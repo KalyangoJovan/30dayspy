{
 "cells": [
  {
   "attachments": {},
   "cell_type": "markdown",
   "metadata": {},
   "source": [
    "### 1.2 Numbers and Math\n",
    "Every programming language has some kind of way of doing numbers and\n",
    "math. Do not worry: programmers frequently lie about being math geniuses\n",
    "when they really aren’t. If they were math geniuses, they would be doing\n",
    "math, not writing buggy web frameworks so they can drive race cars.\n",
    "\n",
    "This exercise has lots of math symbols. Let’s name them right away so you\n",
    "know what they are called. As you type this one in, say the name. When\n",
    "saying them feels boring, you can stop saying them. Here are the names\n",
    "\n",
    "\n",
    "Exercise 3. Numbers and Math\n",
    "Every programming language has some kind of way of doing numbers and\n",
    "math. Do not worry: programmers frequently lie about being math geniuses\n",
    "when they really aren’t. If they were math geniuses, they would be doing\n",
    "math, not writing buggy web frameworks so they can drive race cars.\n",
    "This exercise has lots of math symbols. Let’s name them right away so you\n",
    "know what they are called. As you type this one in, say the name. When\n",
    "saying them feels boring, you can stop saying them. Here are the names:\n",
    "• + plus\n",
    "• - minus\n",
    "• / slash\n",
    "• * asterisk\n",
    "• % percent\n",
    "• < less-than\n",
    "• > greater-than\n",
    "• <= less-than-equal\n",
    "• >= greater-than-equal"
   ]
  },
  {
   "cell_type": "code",
   "execution_count": 2,
   "metadata": {},
   "outputs": [
    {
     "name": "stdout",
     "output_type": "stream",
     "text": [
      "I will now count my chickens:\n",
      "Hens 30.0\n",
      "Roosters 97\n",
      "Now I will count the eggs:\n",
      "6.75\n",
      "Is it true that 3 + 2 < 5 - 7?\n",
      "False\n",
      "What is 3 + 2? 5\n",
      "What is 5 - 7? -2\n",
      "Oh, that's why it's False.\n",
      "How about some more.\n",
      "Is it greater? True\n",
      "Is it greater or equal? True\n",
      "Is it less or equal? False\n",
      "Is it less? False\n",
      "How about some more.\n",
      "Is it greater? True\n",
      "Is it greater or equal? True\n",
      "Is it less or equal? False\n",
      "Is it less? False\n",
      "How about some more.\n"
     ]
    }
   ],
   "source": [
    "print(\"I will now count my chickens:\")\n",
    "\n",
    "print(\"Hens\", 25 + 30 / 6)\n",
    "print(\"Roosters\", 100 - 25 * 3 % 4)\n",
    "\n",
    "print(\"Now I will count the eggs:\")\n",
    "\n",
    "print(3 + 2 + 1 - 5 + 4 % 2 - 1 / 4 + 6)\n",
    "\n",
    "print(\"Is it true that 3 + 2 < 5 - 7?\")\n",
    "\n",
    "print(3 + 2 < 5 - 7)\n",
    "\n",
    "print(\"What is 3 + 2?\", 3 + 2)\n",
    "\n",
    "print(\"What is 5 - 7?\", 5 - 7)\n",
    "\n",
    "print(\"Oh, that's why it's False.\")\n",
    "\n",
    "print(\"How about some more.\")\n",
    "\n",
    "print(\"Is it greater?\", 5 > -2)\n",
    "\n",
    "print(\"Is it greater or equal?\", 5 >= -2)\n",
    "\n",
    "print(\"Is it less or equal?\", 5 <= -2)\n",
    "\n",
    "print(\"Is it less?\", 5 < -2)\n",
    "\n",
    "print(\"How about some more.\")\n",
    "\n",
    "print(\"Is it greater?\", 5 > -2)\n",
    "\n",
    "print(\"Is it greater or equal?\", 5 >= -2)\n",
    "\n",
    "print(\"Is it less or equal?\", 5 <= -2)\n",
    "\n",
    "print(\"Is it less?\", 5 < -2)\n",
    "\n",
    "print(\"How about some more.\")\n"
   ]
  },
  {
   "attachments": {},
   "cell_type": "markdown",
   "metadata": {},
   "source": [
    "### Study Drills\n",
    "\n",
    "1. Above each line, use the # to write a comment to yourself explaining\n",
    "what the line does.\n",
    "2. You can type most math directly into a Jupyter cell and get results.\n",
    "Try using it to do some basic calculations like 1+2 and hit SHIFT-\n",
    "ENTER.\n",
    "3. Find something you need to calculate and write a new .py file that\n",
    "does it.\n",
    "4. Rewrite this exercise to use floating point numbers so it’s more\n",
    "accurate. 20.0 is floating point"
   ]
  },
  {
   "attachments": {},
   "cell_type": "markdown",
   "metadata": {},
   "source": [
    "### Common Student Questions\n",
    "##### Why is the % character a “modulus” and not a “percent”? \n",
    "Mostly that’s just how the designers chose to use that symbol. In normal writing you are correct to read it as a “percent.” In programming this calculation is typically done with simple division and the / operator. The % modulus is a different operation that just happens to use the % symbol. \n",
    "##### How does % work?\n",
    " Another way to say it is, “X divided by Y with J remaining.” For example, “100 divided by 16 with 4 remaining.” The result of % is the J part, or the remaining part.\n",
    "##### What is the order of operations? \n",
    "In the United States they use an acronym called PEMDAS which stands for Parentheses Exponents\n",
    "Multiplication Division Addition Subtraction. That’s the order Python follows as well. The mistake people make with PEMDAS is to think this is a strict order, as in “Do P, then E, then M, then D, then A, then S.” The actual order is you do the multiplication and division (M&D) in one step, from left to right, and then you do the addition and subtraction in one step from left to right. So, you could rewrite PEMDAS as PE(M&D)(A&S)"
   ]
  }
 ],
 "metadata": {
  "kernelspec": {
   "display_name": "base",
   "language": "python",
   "name": "python3"
  },
  "language_info": {
   "codemirror_mode": {
    "name": "ipython",
    "version": 3
   },
   "file_extension": ".py",
   "mimetype": "text/x-python",
   "name": "python",
   "nbconvert_exporter": "python",
   "pygments_lexer": "ipython3",
   "version": "3.9.13"
  },
  "orig_nbformat": 4
 },
 "nbformat": 4,
 "nbformat_minor": 2
}
