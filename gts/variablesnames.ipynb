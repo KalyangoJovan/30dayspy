{
 "cells": [
  {
   "attachments": {},
   "cell_type": "markdown",
   "metadata": {},
   "source": [
    "### 1.3 Variables and Names \n",
    "Now we can print with *print* and can do math with *math*. The next step is to learn about variables. In programming, a variable is a piece of data that can change over time. In other words, a variable is nothing more than a name for something, similar to my name \"Kalyango\" is a name for the human who is teaching you this course. \n",
    "\n",
    "Programmers use these variable names to make their code more readable and understandable. In this exercise, you will learn how to declare variables and assign. You will also learn how to use variables to store data.  \n",
    "\n"
   ]
  },
  {
   "cell_type": "code",
   "execution_count": 1,
   "metadata": {},
   "outputs": [],
   "source": [
    "cars = 100\n",
    "space_in_a_car = 4\n",
    "drivers = 30\n",
    "passengers = 100\n",
    "cars_not_driven = cars - drivers\n",
    "cars_driven = drivers\n",
    "carpool_capacity = cars_driven * space_in_a_car\n",
    "average_passengers_per_car = passengers/cars_driven\n"
   ]
  },
  {
   "cell_type": "code",
   "execution_count": 8,
   "metadata": {},
   "outputs": [
    {
     "name": "stdout",
     "output_type": "stream",
     "text": [
      "There are 100 cars available.\n",
      "There are only 30 drivers available.\n",
      "There will be 70 cars not driven.\n",
      "There is 120 capacity available.\n",
      "There will be 50 more\n",
      "We have 100 to carpool today.\n",
      "We need to put about 3.3333333333333335 in each car.\n"
     ]
    }
   ],
   "source": [
    "print(\"There are\", cars, \"cars available.\")\n",
    "print(\"There are only\", drivers, \"drivers available.\")\n",
    "print(\"There will be\", cars_not_driven, \"cars not driven.\")\n",
    "print(\"There is\", carpool_capacity, \"capacity available.\")\n",
    "print(\"There will be\", carpool_capacity - cars_not_driven, \"more\")\n",
    "print(\"We have\", passengers, \"to carpool today.\")\n",
    "print(\"We need to put about\", average_passengers_per_car, \"in each car.\")"
   ]
  }
 ],
 "metadata": {
  "kernelspec": {
   "display_name": "base",
   "language": "python",
   "name": "python3"
  },
  "language_info": {
   "codemirror_mode": {
    "name": "ipython",
    "version": 3
   },
   "file_extension": ".py",
   "mimetype": "text/x-python",
   "name": "python",
   "nbconvert_exporter": "python",
   "pygments_lexer": "ipython3",
   "version": "3.9.13"
  },
  "orig_nbformat": 4
 },
 "nbformat": 4,
 "nbformat_minor": 2
}
