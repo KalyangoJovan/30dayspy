{
 "cells": [
  {
   "attachments": {},
   "cell_type": "markdown",
   "metadata": {},
   "source": [
    "# Chapter 1: \n",
    "we address the technical setup of the project, the 30 days marathon schedule of python.\n"
   ]
  },
  {
   "cell_type": "code",
   "execution_count": 9,
   "metadata": {},
   "outputs": [
    {
     "name": "stdout",
     "output_type": "stream",
     "text": [
      "Hello World!\n",
      "Hello Again\n",
      "I like typing this.\n",
      "This is fun.\n",
      "Yay! Printing.\n",
      "I'd much rather you 'not'.\n",
      "I \"said\" do not touch this.\n"
     ]
    }
   ],
   "source": [
    "\n",
    "print(\"Hello World!\")\n",
    "print(\"Hello Again\")\n",
    "print(\"I like typing this.\")\n",
    "print(\"This is fun.\")\n",
    "print('Yay! Printing.')\n",
    "print(\"I'd much rather you 'not'.\")\n",
    "print('I \"said\" do not touch this.')"
   ]
  },
  {
   "attachments": {},
   "cell_type": "markdown",
   "metadata": {},
   "source": [
    "### 1.1 Comments and Pound Characters\n",
    "\n",
    "Comments are very important in your programs. They are used to tell you\n",
    "what something does in English, and they are used to disable parts of your\n",
    "program if you need to remove them temporarily. Here’s how you use\n",
    "comments in Python:"
   ]
  },
  {
   "cell_type": "code",
   "execution_count": 10,
   "metadata": {},
   "outputs": [
    {
     "name": "stdout",
     "output_type": "stream",
     "text": [
      "I can have code like this:\n",
      "This will run.\n"
     ]
    }
   ],
   "source": [
    "# A comment, can be used to read your code, later on, anything after # is ignored.\n",
    "print(\"I can have code like this:\") # I can comment out this line.\n",
    "\n",
    "# You can also use a comment as well.\n",
    "#print(\"I can have code like this:\") # I can comment out this line.\n",
    "\n",
    "print(\"This will run.\") # I can comment out this line."
   ]
  },
  {
   "attachments": {},
   "cell_type": "markdown",
   "metadata": {},
   "source": [
    "From now on, I’m going to write code like this. It is important for you to\n",
    "understand that everything does not have to be literal. If my Jupyter looks a\n",
    "little different from yours or if I’m using a text editor, the results will be the\n",
    "same. Focus more on the textual output and less on the visual display such\n",
    "as fonts and colors\n",
    "\n",
    "##### This is what you'll see output \n",
    "I can have code like this:\n",
    "This will run."
   ]
  },
  {
   "attachments": {},
   "cell_type": "markdown",
   "metadata": {},
   "source": [
    "#### Study Drills\n",
    "1. Find out if you were right about what the # character does and make\n",
    "sure you know what it’s called (octothorpe or pound character).\n",
    "2. Take your code and review each line going backward. Start at the last\n",
    "line, and check each word in reverse against what you should have\n",
    "typed.\n",
    "3. Did you find more mistakes? Fix them.\n",
    "4. Read what you typed out loud, including saying each character by its\n",
    "name. Did you find more mistakes? Fix them."
   ]
  }
 ],
 "metadata": {
  "kernelspec": {
   "display_name": "base",
   "language": "python",
   "name": "python3"
  },
  "language_info": {
   "codemirror_mode": {
    "name": "ipython",
    "version": 3
   },
   "file_extension": ".py",
   "mimetype": "text/x-python",
   "name": "python",
   "nbconvert_exporter": "python",
   "pygments_lexer": "ipython3",
   "version": "3.9.13"
  },
  "orig_nbformat": 4
 },
 "nbformat": 4,
 "nbformat_minor": 2
}
